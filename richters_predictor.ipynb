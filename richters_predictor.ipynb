{
 "cells": [
  {
   "cell_type": "code",
   "execution_count": 73,
   "metadata": {},
   "outputs": [],
   "source": [
    "import numpy as np\n",
    "import pandas as pd\n",
    "import matplotlib.pyplot as plt\n",
    "from sklearn import preprocessing\n",
    "from sklearn.svm import LinearSVC\n",
    "from sklearn.ensemble import AdaBoostClassifier, RandomForestClassifier\n",
    "from sklearn.metrics import confusion_matrix, plot_confusion_matrix, f1_score, classification_report\n",
    "from sklearn.utils.class_weight import compute_class_weight\n",
    "from sklearn.model_selection import GridSearchCV\n",
    "import category_encoders as ce"
   ]
  },
  {
   "cell_type": "code",
   "execution_count": 2,
   "metadata": {},
   "outputs": [],
   "source": [
    "# Training parameters\n",
    "TRAIN_FRAC = 0.8 # fraction of the labeled data to use for training, remainder is used for validation\n",
    "RANDOM_STATE = 1 # random state for random sampling "
   ]
  },
  {
   "cell_type": "code",
   "execution_count": 3,
   "metadata": {},
   "outputs": [],
   "source": [
    "# Load data\n",
    "train_data_all = pd.read_csv('data/train_values.csv')\n",
    "label_data_all = pd.read_csv('data/train_labels.csv')\n",
    "test_data_all = pd.read_csv('data/test_values.csv')"
   ]
  },
  {
   "cell_type": "code",
   "execution_count": 4,
   "metadata": {},
   "outputs": [
    {
     "data": {
      "text/plain": [
       "2    148259\n",
       "3     87218\n",
       "1     25124\n",
       "Name: damage_grade, dtype: int64"
      ]
     },
     "execution_count": 4,
     "metadata": {},
     "output_type": "execute_result"
    }
   ],
   "source": [
    "# Compare totals for each category\n",
    "val_counts = label_data_all['damage_grade'].value_counts()\n",
    "val_counts"
   ]
  },
  {
   "cell_type": "code",
   "execution_count": 57,
   "metadata": {},
   "outputs": [
    {
     "name": "stdout",
     "output_type": "stream",
     "text": [
      "Dropping -- 3: 52779, 2: 113820\n"
     ]
    },
    {
     "data": {
      "text/plain": [
       "3    34439\n",
       "2    34439\n",
       "1    25124\n",
       "Name: damage_grade, dtype: int64"
      ]
     },
     "execution_count": 57,
     "metadata": {},
     "output_type": "execute_result"
    }
   ],
   "source": [
    "# Undersample the majority classes\n",
    "n_1, n_2, n_3 = val_counts[1], val_counts[2], val_counts[3]\n",
    "\n",
    "sample_to = 1 # choose 1 or 3\n",
    "mult_factor = .85\n",
    "\n",
    "train_data_drop = train_data_all.copy()\n",
    "if sample_to == 1:\n",
    "    # sample 2 and 3 down to n_1\n",
    "    label_3_inds = label_data_all.index[label_data_all['damage_grade']==3].to_list()\n",
    "    label_2_inds = label_data_all.index[label_data_all['damage_grade']==2].to_list()\n",
    "    drop_3 = np.random.choice(label_3_inds, int((len(label_3_inds)-n_1)*mult_factor), replace=False)\n",
    "    drop_2 = np.random.choice(label_2_inds, len(drop_3)+(n_2-n_3), replace=False)\n",
    "    print('Dropping -- 3: {}, 2: {}'.format(len(drop_3),len(drop_2)))\n",
    "    train_data_drop.drop(drop_3,axis=0,inplace=True)\n",
    "    train_data_drop.drop(drop_2,axis=0,inplace=True)\n",
    "    label_data_drop = label_data_all.copy()\n",
    "    label_data_drop.drop(drop_3,axis=0,inplace=True)\n",
    "    label_data_drop.drop(drop_2,axis=0,inplace=True)\n",
    "elif sample_to == 3:\n",
    "    # sample 2 down to n_3\n",
    "    label_2_inds = label_data_all.index[label_data_all['damage_grade']==2].to_list()\n",
    "    drop_2 = np.random.choice(label_2_inds, len(label_2_inds)-int(n_3*mult_factor), replace=False)\n",
    "    print('Dropping -- 2: {}'.format(len(drop_2)))\n",
    "    train_data_drop.drop(drop_2,axis=0,inplace=True)\n",
    "    label_data_drop = label_data_all.copy()\n",
    "    label_data_drop.drop(drop_2,axis=0,inplace=True)\n",
    "\n",
    "new_val_counts = label_data_drop['damage_grade'].value_counts()\n",
    "new_val_counts"
   ]
  },
  {
   "cell_type": "code",
   "execution_count": 58,
   "metadata": {},
   "outputs": [
    {
     "data": {
      "text/plain": [
       "building_id                                int64\n",
       "geo_level_1_id                             int64\n",
       "geo_level_2_id                             int64\n",
       "geo_level_3_id                             int64\n",
       "count_floors_pre_eq                        int64\n",
       "age                                        int64\n",
       "area_percentage                            int64\n",
       "height_percentage                          int64\n",
       "land_surface_condition                    object\n",
       "foundation_type                           object\n",
       "roof_type                                 object\n",
       "ground_floor_type                         object\n",
       "other_floor_type                          object\n",
       "position                                  object\n",
       "plan_configuration                        object\n",
       "has_superstructure_adobe_mud               int64\n",
       "has_superstructure_mud_mortar_stone        int64\n",
       "has_superstructure_stone_flag              int64\n",
       "has_superstructure_cement_mortar_stone     int64\n",
       "has_superstructure_mud_mortar_brick        int64\n",
       "has_superstructure_cement_mortar_brick     int64\n",
       "has_superstructure_timber                  int64\n",
       "has_superstructure_bamboo                  int64\n",
       "has_superstructure_rc_non_engineered       int64\n",
       "has_superstructure_rc_engineered           int64\n",
       "has_superstructure_other                   int64\n",
       "legal_ownership_status                    object\n",
       "count_families                             int64\n",
       "has_secondary_use                          int64\n",
       "has_secondary_use_agriculture              int64\n",
       "has_secondary_use_hotel                    int64\n",
       "has_secondary_use_rental                   int64\n",
       "has_secondary_use_institution              int64\n",
       "has_secondary_use_school                   int64\n",
       "has_secondary_use_industry                 int64\n",
       "has_secondary_use_health_post              int64\n",
       "has_secondary_use_gov_office               int64\n",
       "has_secondary_use_use_police               int64\n",
       "has_secondary_use_other                    int64\n",
       "dtype: object"
      ]
     },
     "execution_count": 58,
     "metadata": {},
     "output_type": "execute_result"
    }
   ],
   "source": [
    "# Inspect columns\n",
    "train_data_drop.dtypes"
   ]
  },
  {
   "cell_type": "code",
   "execution_count": 59,
   "metadata": {},
   "outputs": [
    {
     "name": "stdout",
     "output_type": "stream",
     "text": [
      "['land_surface_condition', 'foundation_type', 'roof_type', 'ground_floor_type', 'other_floor_type', 'position', 'plan_configuration', 'legal_ownership_status']\n"
     ]
    }
   ],
   "source": [
    "# categorical variables\n",
    "# cat_enc = ce.hashing.HashingEncoder(verbose=2)\n",
    "# cat_enc = ce.one_hot.OneHotEncoder()\n",
    "cat_enc = ce.helmert.HelmertEncoder()\n",
    "cat_cols = [train_data_drop.columns[kk] for kk in range(len(train_data_drop.columns)) if train_data_drop[train_data_drop.columns[kk]].dtypes=='object']\n",
    "print(cat_cols)\n",
    "train_data_cat = train_data_drop.copy()\n",
    "cat_results = cat_enc.fit_transform(train_data_drop[cat_cols])"
   ]
  },
  {
   "cell_type": "code",
   "execution_count": 60,
   "metadata": {},
   "outputs": [
    {
     "name": "stdout",
     "output_type": "stream",
     "text": [
      "(94002, 31)\n"
     ]
    }
   ],
   "source": [
    "train_data_cat.drop(cat_cols,axis=1,inplace=True)\n",
    "print(train_data_cat.shape)"
   ]
  },
  {
   "cell_type": "code",
   "execution_count": 61,
   "metadata": {},
   "outputs": [
    {
     "name": "stdout",
     "output_type": "stream",
     "text": [
      "(94002, 62)\n"
     ]
    }
   ],
   "source": [
    "cat_results.index = train_data_drop.index\n",
    "train_data_cat[cat_results.columns] = cat_results\n",
    "print(train_data_cat.shape)"
   ]
  },
  {
   "cell_type": "code",
   "execution_count": 84,
   "metadata": {},
   "outputs": [],
   "source": [
    "# prepare test set in the same way\n",
    "test_data_cat = test_data_all.copy()\n",
    "test_cat_results = cat_enc.transform(test_data_cat[cat_cols])\n",
    "test_data_cat.drop(cat_cols,axis=1,inplace=True)\n",
    "test_cat_results.index = test_data_cat.index\n",
    "test_data_cat[test_cat_results.columns] = test_cat_results"
   ]
  },
  {
   "cell_type": "code",
   "execution_count": 81,
   "metadata": {},
   "outputs": [
    {
     "data": {
      "text/html": [
       "<div>\n",
       "<style scoped>\n",
       "    .dataframe tbody tr th:only-of-type {\n",
       "        vertical-align: middle;\n",
       "    }\n",
       "\n",
       "    .dataframe tbody tr th {\n",
       "        vertical-align: top;\n",
       "    }\n",
       "\n",
       "    .dataframe thead th {\n",
       "        text-align: right;\n",
       "    }\n",
       "</style>\n",
       "<table border=\"1\" class=\"dataframe\">\n",
       "  <thead>\n",
       "    <tr style=\"text-align: right;\">\n",
       "      <th></th>\n",
       "      <th>intercept</th>\n",
       "      <th>land_surface_condition_0</th>\n",
       "      <th>land_surface_condition_1</th>\n",
       "      <th>foundation_type_0</th>\n",
       "      <th>foundation_type_1</th>\n",
       "      <th>foundation_type_2</th>\n",
       "      <th>foundation_type_3</th>\n",
       "      <th>roof_type_0</th>\n",
       "      <th>roof_type_1</th>\n",
       "      <th>ground_floor_type_0</th>\n",
       "      <th>...</th>\n",
       "      <th>plan_configuration_2</th>\n",
       "      <th>plan_configuration_3</th>\n",
       "      <th>plan_configuration_4</th>\n",
       "      <th>plan_configuration_5</th>\n",
       "      <th>plan_configuration_6</th>\n",
       "      <th>plan_configuration_7</th>\n",
       "      <th>plan_configuration_8</th>\n",
       "      <th>legal_ownership_status_0</th>\n",
       "      <th>legal_ownership_status_1</th>\n",
       "      <th>legal_ownership_status_2</th>\n",
       "    </tr>\n",
       "  </thead>\n",
       "  <tbody>\n",
       "    <tr>\n",
       "      <th>0</th>\n",
       "      <td>1</td>\n",
       "      <td>-1.0</td>\n",
       "      <td>-1.0</td>\n",
       "      <td>-1.0</td>\n",
       "      <td>-1.0</td>\n",
       "      <td>-1.0</td>\n",
       "      <td>-1.0</td>\n",
       "      <td>-1.0</td>\n",
       "      <td>-1.0</td>\n",
       "      <td>-1.0</td>\n",
       "      <td>...</td>\n",
       "      <td>-1.0</td>\n",
       "      <td>-1.0</td>\n",
       "      <td>-1.0</td>\n",
       "      <td>-1.0</td>\n",
       "      <td>-1.0</td>\n",
       "      <td>-1.0</td>\n",
       "      <td>-1.0</td>\n",
       "      <td>-1.0</td>\n",
       "      <td>-1.0</td>\n",
       "      <td>-1.0</td>\n",
       "    </tr>\n",
       "    <tr>\n",
       "      <th>1</th>\n",
       "      <td>1</td>\n",
       "      <td>-1.0</td>\n",
       "      <td>-1.0</td>\n",
       "      <td>-1.0</td>\n",
       "      <td>-1.0</td>\n",
       "      <td>-1.0</td>\n",
       "      <td>-1.0</td>\n",
       "      <td>-1.0</td>\n",
       "      <td>-1.0</td>\n",
       "      <td>-1.0</td>\n",
       "      <td>...</td>\n",
       "      <td>-1.0</td>\n",
       "      <td>-1.0</td>\n",
       "      <td>-1.0</td>\n",
       "      <td>-1.0</td>\n",
       "      <td>-1.0</td>\n",
       "      <td>-1.0</td>\n",
       "      <td>-1.0</td>\n",
       "      <td>-1.0</td>\n",
       "      <td>-1.0</td>\n",
       "      <td>-1.0</td>\n",
       "    </tr>\n",
       "    <tr>\n",
       "      <th>2</th>\n",
       "      <td>1</td>\n",
       "      <td>-1.0</td>\n",
       "      <td>-1.0</td>\n",
       "      <td>-1.0</td>\n",
       "      <td>-1.0</td>\n",
       "      <td>-1.0</td>\n",
       "      <td>-1.0</td>\n",
       "      <td>-1.0</td>\n",
       "      <td>-1.0</td>\n",
       "      <td>-1.0</td>\n",
       "      <td>...</td>\n",
       "      <td>-1.0</td>\n",
       "      <td>-1.0</td>\n",
       "      <td>-1.0</td>\n",
       "      <td>-1.0</td>\n",
       "      <td>-1.0</td>\n",
       "      <td>-1.0</td>\n",
       "      <td>-1.0</td>\n",
       "      <td>-1.0</td>\n",
       "      <td>-1.0</td>\n",
       "      <td>-1.0</td>\n",
       "    </tr>\n",
       "    <tr>\n",
       "      <th>3</th>\n",
       "      <td>1</td>\n",
       "      <td>-1.0</td>\n",
       "      <td>-1.0</td>\n",
       "      <td>-1.0</td>\n",
       "      <td>-1.0</td>\n",
       "      <td>-1.0</td>\n",
       "      <td>-1.0</td>\n",
       "      <td>0.0</td>\n",
       "      <td>2.0</td>\n",
       "      <td>1.0</td>\n",
       "      <td>...</td>\n",
       "      <td>-1.0</td>\n",
       "      <td>-1.0</td>\n",
       "      <td>-1.0</td>\n",
       "      <td>-1.0</td>\n",
       "      <td>-1.0</td>\n",
       "      <td>-1.0</td>\n",
       "      <td>-1.0</td>\n",
       "      <td>-1.0</td>\n",
       "      <td>-1.0</td>\n",
       "      <td>-1.0</td>\n",
       "    </tr>\n",
       "    <tr>\n",
       "      <th>4</th>\n",
       "      <td>1</td>\n",
       "      <td>-1.0</td>\n",
       "      <td>-1.0</td>\n",
       "      <td>-1.0</td>\n",
       "      <td>-1.0</td>\n",
       "      <td>-1.0</td>\n",
       "      <td>-1.0</td>\n",
       "      <td>1.0</td>\n",
       "      <td>-1.0</td>\n",
       "      <td>-1.0</td>\n",
       "      <td>...</td>\n",
       "      <td>-1.0</td>\n",
       "      <td>-1.0</td>\n",
       "      <td>-1.0</td>\n",
       "      <td>-1.0</td>\n",
       "      <td>-1.0</td>\n",
       "      <td>-1.0</td>\n",
       "      <td>-1.0</td>\n",
       "      <td>-1.0</td>\n",
       "      <td>-1.0</td>\n",
       "      <td>-1.0</td>\n",
       "    </tr>\n",
       "    <tr>\n",
       "      <th>...</th>\n",
       "      <td>...</td>\n",
       "      <td>...</td>\n",
       "      <td>...</td>\n",
       "      <td>...</td>\n",
       "      <td>...</td>\n",
       "      <td>...</td>\n",
       "      <td>...</td>\n",
       "      <td>...</td>\n",
       "      <td>...</td>\n",
       "      <td>...</td>\n",
       "      <td>...</td>\n",
       "      <td>...</td>\n",
       "      <td>...</td>\n",
       "      <td>...</td>\n",
       "      <td>...</td>\n",
       "      <td>...</td>\n",
       "      <td>...</td>\n",
       "      <td>...</td>\n",
       "      <td>...</td>\n",
       "      <td>...</td>\n",
       "      <td>...</td>\n",
       "    </tr>\n",
       "    <tr>\n",
       "      <th>86863</th>\n",
       "      <td>1</td>\n",
       "      <td>-1.0</td>\n",
       "      <td>-1.0</td>\n",
       "      <td>-1.0</td>\n",
       "      <td>-1.0</td>\n",
       "      <td>-1.0</td>\n",
       "      <td>-1.0</td>\n",
       "      <td>1.0</td>\n",
       "      <td>-1.0</td>\n",
       "      <td>-1.0</td>\n",
       "      <td>...</td>\n",
       "      <td>-1.0</td>\n",
       "      <td>-1.0</td>\n",
       "      <td>-1.0</td>\n",
       "      <td>-1.0</td>\n",
       "      <td>-1.0</td>\n",
       "      <td>-1.0</td>\n",
       "      <td>-1.0</td>\n",
       "      <td>0.0</td>\n",
       "      <td>2.0</td>\n",
       "      <td>-1.0</td>\n",
       "    </tr>\n",
       "    <tr>\n",
       "      <th>86864</th>\n",
       "      <td>1</td>\n",
       "      <td>1.0</td>\n",
       "      <td>-1.0</td>\n",
       "      <td>-1.0</td>\n",
       "      <td>-1.0</td>\n",
       "      <td>-1.0</td>\n",
       "      <td>-1.0</td>\n",
       "      <td>-1.0</td>\n",
       "      <td>-1.0</td>\n",
       "      <td>-1.0</td>\n",
       "      <td>...</td>\n",
       "      <td>-1.0</td>\n",
       "      <td>-1.0</td>\n",
       "      <td>-1.0</td>\n",
       "      <td>-1.0</td>\n",
       "      <td>-1.0</td>\n",
       "      <td>-1.0</td>\n",
       "      <td>-1.0</td>\n",
       "      <td>-1.0</td>\n",
       "      <td>-1.0</td>\n",
       "      <td>-1.0</td>\n",
       "    </tr>\n",
       "    <tr>\n",
       "      <th>86865</th>\n",
       "      <td>1</td>\n",
       "      <td>-1.0</td>\n",
       "      <td>-1.0</td>\n",
       "      <td>-1.0</td>\n",
       "      <td>-1.0</td>\n",
       "      <td>-1.0</td>\n",
       "      <td>-1.0</td>\n",
       "      <td>-1.0</td>\n",
       "      <td>-1.0</td>\n",
       "      <td>-1.0</td>\n",
       "      <td>...</td>\n",
       "      <td>-1.0</td>\n",
       "      <td>-1.0</td>\n",
       "      <td>-1.0</td>\n",
       "      <td>-1.0</td>\n",
       "      <td>-1.0</td>\n",
       "      <td>-1.0</td>\n",
       "      <td>-1.0</td>\n",
       "      <td>-1.0</td>\n",
       "      <td>-1.0</td>\n",
       "      <td>-1.0</td>\n",
       "    </tr>\n",
       "    <tr>\n",
       "      <th>86866</th>\n",
       "      <td>1</td>\n",
       "      <td>-1.0</td>\n",
       "      <td>-1.0</td>\n",
       "      <td>-1.0</td>\n",
       "      <td>-1.0</td>\n",
       "      <td>-1.0</td>\n",
       "      <td>-1.0</td>\n",
       "      <td>-1.0</td>\n",
       "      <td>-1.0</td>\n",
       "      <td>-1.0</td>\n",
       "      <td>...</td>\n",
       "      <td>-1.0</td>\n",
       "      <td>-1.0</td>\n",
       "      <td>-1.0</td>\n",
       "      <td>-1.0</td>\n",
       "      <td>-1.0</td>\n",
       "      <td>-1.0</td>\n",
       "      <td>-1.0</td>\n",
       "      <td>1.0</td>\n",
       "      <td>-1.0</td>\n",
       "      <td>-1.0</td>\n",
       "    </tr>\n",
       "    <tr>\n",
       "      <th>86867</th>\n",
       "      <td>1</td>\n",
       "      <td>-1.0</td>\n",
       "      <td>-1.0</td>\n",
       "      <td>-1.0</td>\n",
       "      <td>-1.0</td>\n",
       "      <td>-1.0</td>\n",
       "      <td>-1.0</td>\n",
       "      <td>1.0</td>\n",
       "      <td>-1.0</td>\n",
       "      <td>1.0</td>\n",
       "      <td>...</td>\n",
       "      <td>-1.0</td>\n",
       "      <td>-1.0</td>\n",
       "      <td>-1.0</td>\n",
       "      <td>-1.0</td>\n",
       "      <td>-1.0</td>\n",
       "      <td>-1.0</td>\n",
       "      <td>-1.0</td>\n",
       "      <td>-1.0</td>\n",
       "      <td>-1.0</td>\n",
       "      <td>-1.0</td>\n",
       "    </tr>\n",
       "  </tbody>\n",
       "</table>\n",
       "<p>86868 rows × 31 columns</p>\n",
       "</div>"
      ],
      "text/plain": [
       "       intercept  land_surface_condition_0  land_surface_condition_1  \\\n",
       "0              1                      -1.0                      -1.0   \n",
       "1              1                      -1.0                      -1.0   \n",
       "2              1                      -1.0                      -1.0   \n",
       "3              1                      -1.0                      -1.0   \n",
       "4              1                      -1.0                      -1.0   \n",
       "...          ...                       ...                       ...   \n",
       "86863          1                      -1.0                      -1.0   \n",
       "86864          1                       1.0                      -1.0   \n",
       "86865          1                      -1.0                      -1.0   \n",
       "86866          1                      -1.0                      -1.0   \n",
       "86867          1                      -1.0                      -1.0   \n",
       "\n",
       "       foundation_type_0  foundation_type_1  foundation_type_2  \\\n",
       "0                   -1.0               -1.0               -1.0   \n",
       "1                   -1.0               -1.0               -1.0   \n",
       "2                   -1.0               -1.0               -1.0   \n",
       "3                   -1.0               -1.0               -1.0   \n",
       "4                   -1.0               -1.0               -1.0   \n",
       "...                  ...                ...                ...   \n",
       "86863               -1.0               -1.0               -1.0   \n",
       "86864               -1.0               -1.0               -1.0   \n",
       "86865               -1.0               -1.0               -1.0   \n",
       "86866               -1.0               -1.0               -1.0   \n",
       "86867               -1.0               -1.0               -1.0   \n",
       "\n",
       "       foundation_type_3  roof_type_0  roof_type_1  ground_floor_type_0  ...  \\\n",
       "0                   -1.0         -1.0         -1.0                 -1.0  ...   \n",
       "1                   -1.0         -1.0         -1.0                 -1.0  ...   \n",
       "2                   -1.0         -1.0         -1.0                 -1.0  ...   \n",
       "3                   -1.0          0.0          2.0                  1.0  ...   \n",
       "4                   -1.0          1.0         -1.0                 -1.0  ...   \n",
       "...                  ...          ...          ...                  ...  ...   \n",
       "86863               -1.0          1.0         -1.0                 -1.0  ...   \n",
       "86864               -1.0         -1.0         -1.0                 -1.0  ...   \n",
       "86865               -1.0         -1.0         -1.0                 -1.0  ...   \n",
       "86866               -1.0         -1.0         -1.0                 -1.0  ...   \n",
       "86867               -1.0          1.0         -1.0                  1.0  ...   \n",
       "\n",
       "       plan_configuration_2  plan_configuration_3  plan_configuration_4  \\\n",
       "0                      -1.0                  -1.0                  -1.0   \n",
       "1                      -1.0                  -1.0                  -1.0   \n",
       "2                      -1.0                  -1.0                  -1.0   \n",
       "3                      -1.0                  -1.0                  -1.0   \n",
       "4                      -1.0                  -1.0                  -1.0   \n",
       "...                     ...                   ...                   ...   \n",
       "86863                  -1.0                  -1.0                  -1.0   \n",
       "86864                  -1.0                  -1.0                  -1.0   \n",
       "86865                  -1.0                  -1.0                  -1.0   \n",
       "86866                  -1.0                  -1.0                  -1.0   \n",
       "86867                  -1.0                  -1.0                  -1.0   \n",
       "\n",
       "       plan_configuration_5  plan_configuration_6  plan_configuration_7  \\\n",
       "0                      -1.0                  -1.0                  -1.0   \n",
       "1                      -1.0                  -1.0                  -1.0   \n",
       "2                      -1.0                  -1.0                  -1.0   \n",
       "3                      -1.0                  -1.0                  -1.0   \n",
       "4                      -1.0                  -1.0                  -1.0   \n",
       "...                     ...                   ...                   ...   \n",
       "86863                  -1.0                  -1.0                  -1.0   \n",
       "86864                  -1.0                  -1.0                  -1.0   \n",
       "86865                  -1.0                  -1.0                  -1.0   \n",
       "86866                  -1.0                  -1.0                  -1.0   \n",
       "86867                  -1.0                  -1.0                  -1.0   \n",
       "\n",
       "       plan_configuration_8  legal_ownership_status_0  \\\n",
       "0                      -1.0                      -1.0   \n",
       "1                      -1.0                      -1.0   \n",
       "2                      -1.0                      -1.0   \n",
       "3                      -1.0                      -1.0   \n",
       "4                      -1.0                      -1.0   \n",
       "...                     ...                       ...   \n",
       "86863                  -1.0                       0.0   \n",
       "86864                  -1.0                      -1.0   \n",
       "86865                  -1.0                      -1.0   \n",
       "86866                  -1.0                       1.0   \n",
       "86867                  -1.0                      -1.0   \n",
       "\n",
       "       legal_ownership_status_1  legal_ownership_status_2  \n",
       "0                          -1.0                      -1.0  \n",
       "1                          -1.0                      -1.0  \n",
       "2                          -1.0                      -1.0  \n",
       "3                          -1.0                      -1.0  \n",
       "4                          -1.0                      -1.0  \n",
       "...                         ...                       ...  \n",
       "86863                       2.0                      -1.0  \n",
       "86864                      -1.0                      -1.0  \n",
       "86865                      -1.0                      -1.0  \n",
       "86866                      -1.0                      -1.0  \n",
       "86867                      -1.0                      -1.0  \n",
       "\n",
       "[86868 rows x 31 columns]"
      ]
     },
     "execution_count": 81,
     "metadata": {},
     "output_type": "execute_result"
    }
   ],
   "source": [
    "test_data_cat[cat_cols]\n",
    "test_cat_results"
   ]
  },
  {
   "cell_type": "code",
   "execution_count": 62,
   "metadata": {},
   "outputs": [
    {
     "name": "stdout",
     "output_type": "stream",
     "text": [
      "All finite in training?  True\n",
      "Any NaN in training?  False\n",
      "All finite in cat?  True\n",
      "Any NaN in cat?  False\n"
     ]
    }
   ],
   "source": [
    "print('All finite in training? ',train_data_drop.notnull().values.all())\n",
    "print('Any NaN in training? ',train_data_drop.isnull().values.any())\n",
    "print('All finite in cat? ',train_data_cat.notnull().values.all())\n",
    "print('Any NaN in cat? ',train_data_cat.isnull().values.any())"
   ]
  },
  {
   "cell_type": "code",
   "execution_count": 63,
   "metadata": {},
   "outputs": [
    {
     "data": {
      "text/plain": [
       "False"
      ]
     },
     "execution_count": 63,
     "metadata": {},
     "output_type": "execute_result"
    }
   ],
   "source": [
    "(train_data_cat.dtypes == 'int64').all()"
   ]
  },
  {
   "cell_type": "code",
   "execution_count": 64,
   "metadata": {},
   "outputs": [],
   "source": [
    "# Split into training and validation sets\n",
    "data_train_unscaled = train_data_cat.sample(frac=TRAIN_FRAC,random_state=RANDOM_STATE)\n",
    "data_val_unscaled = train_data_cat.drop(data_train_unscaled.index,axis=0)\n",
    "label_train = label_data_drop.sample(frac=TRAIN_FRAC,random_state=RANDOM_STATE)\n",
    "label_val = label_data_drop.drop(label_train.index,axis=0)"
   ]
  },
  {
   "cell_type": "code",
   "execution_count": 65,
   "metadata": {},
   "outputs": [],
   "source": [
    "# Scale the training data\n",
    "#mm_scaler = preprocessing.StandardScaler()\n",
    "#scale_cols = ['geo_level_1_id', 'geo_level_2_id', 'geo_level_3_id', \n",
    "#              'count_floors_pre_eq', 'age', 'area_percentage', 'height_percentage']\n",
    "#data_train = data_train_unscaled.copy()\n",
    "#data_train[scale_cols] = mm_scaler.fit_transform(data_train[scale_cols])\n",
    "#data_val = data_val_unscaled.copy()\n",
    "#data_val[scale_cols] = mm_scaler.transform(data_val[scale_cols])"
   ]
  },
  {
   "cell_type": "code",
   "execution_count": 66,
   "metadata": {},
   "outputs": [
    {
     "data": {
      "text/plain": [
       "{1: 1.2449631653008857, 2: 0.9106122251283542, 3: 0.9102484960722369}"
      ]
     },
     "execution_count": 66,
     "metadata": {},
     "output_type": "execute_result"
    }
   ],
   "source": [
    "# compute class weights\n",
    "class_weights = compute_class_weight('balanced',\n",
    "                                    classes=np.unique(label_train['damage_grade'].values),\n",
    "                                    y=label_train['damage_grade'].values)\n",
    "weights_dict = {np.unique(label_train['damage_grade'].values)[kk]:class_weights[kk] for kk in range(len(class_weights))}\n",
    "weights_dict"
   ]
  },
  {
   "cell_type": "code",
   "execution_count": 67,
   "metadata": {},
   "outputs": [
    {
     "name": "stdout",
     "output_type": "stream",
     "text": [
      "Fitting 3 folds for each of 9 candidates, totalling 27 fits\n"
     ]
    },
    {
     "name": "stderr",
     "output_type": "stream",
     "text": [
      "[Parallel(n_jobs=-1)]: Using backend LokyBackend with 48 concurrent workers.\n",
      "[Parallel(n_jobs=-1)]: Done   2 out of  27 | elapsed:  1.3min remaining: 15.9min\n",
      "[Parallel(n_jobs=-1)]: Done  16 out of  27 | elapsed:  1.3min remaining:   55.4s\n",
      "[Parallel(n_jobs=-1)]: Done  27 out of  27 | elapsed:  1.4min finished\n"
     ]
    }
   ],
   "source": [
    "# Train the classifier\n",
    "cl_f = RandomForestClassifier(random_state = 1)\n",
    "n_estimators = [875,900,925]\n",
    "max_depth = [35, 36, 37]\n",
    "min_samples_split = [5]\n",
    "min_samples_leaf = [1] \n",
    "\n",
    "hyper_f = dict(n_estimators = n_estimators, \n",
    "               max_depth = max_depth,\n",
    "               min_samples_split = min_samples_split,\n",
    "               min_samples_leaf = min_samples_leaf)\n",
    "grid_f = GridSearchCV(cl_f, hyper_f, cv = 3, verbose = 2, \n",
    "                      n_jobs = -1)\n",
    "best_f = grid_f.fit(data_train_unscaled.values.astype(float), label_train.values[:,1].astype(int))"
   ]
  },
  {
   "cell_type": "code",
   "execution_count": 75,
   "metadata": {},
   "outputs": [
    {
     "name": "stdout",
     "output_type": "stream",
     "text": [
      "              precision    recall  f1-score   support\n",
      "\n",
      "           1       0.77      0.76      0.76      4989\n",
      "           2       0.61      0.59      0.60      6911\n",
      "           3       0.71      0.75      0.73      6900\n",
      "\n",
      "    accuracy                           0.69     18800\n",
      "   macro avg       0.70      0.70      0.70     18800\n",
      "weighted avg       0.69      0.69      0.69     18800\n",
      "\n"
     ]
    }
   ],
   "source": [
    "# Evaluate the classifier\n",
    "pred_val = best_f.predict(data_val_unscaled)\n",
    "print(classification_report(label_val.values[:,1], pred_val))"
   ]
  },
  {
   "cell_type": "code",
   "execution_count": 69,
   "metadata": {},
   "outputs": [
    {
     "data": {
      "text/plain": [
       "<sklearn.metrics._plot.confusion_matrix.ConfusionMatrixDisplay at 0x7fbd217c7438>"
      ]
     },
     "execution_count": 69,
     "metadata": {},
     "output_type": "execute_result"
    },
    {
     "data": {
      "image/png": "[encoded data removed]",
      "text/plain": [
       "<Figure size 432x288 with 2 Axes>"
      ]
     },
     "metadata": {
      "needs_background": "light"
     },
     "output_type": "display_data"
    }
   ],
   "source": [
    "plot_confusion_matrix(best_f,data_val_unscaled,label_val.values[:,1].astype(int))"
   ]
  },
  {
   "cell_type": "code",
   "execution_count": 70,
   "metadata": {},
   "outputs": [
    {
     "data": {
      "text/plain": [
       "{'max_depth': 36,\n",
       " 'min_samples_leaf': 1,\n",
       " 'min_samples_split': 5,\n",
       " 'n_estimators': 925}"
      ]
     },
     "execution_count": 70,
     "metadata": {},
     "output_type": "execute_result"
    }
   ],
   "source": [
    "best_f.best_params_"
   ]
  },
  {
   "cell_type": "code",
   "execution_count": null,
   "metadata": {},
   "outputs": [],
   "source": [
    "# predict from test set\n",
    "pred_test = best_f.predict(test_data_cat)"
   ]
  },
  {
   "cell_type": "code",
   "execution_count": 93,
   "metadata": {},
   "outputs": [],
   "source": [
    "pred_test_df = pd.DataFrame(test_data_cat.building_id,columns=['building_id'])\n",
    "pred_test_df['damage_grade'] = pred_test\n",
    "pred_test_df.to_csv('data/submission.csv',index=False)"
   ]
  },
  {
   "cell_type": "code",
   "execution_count": 86,
   "metadata": {},
   "outputs": [
    {
     "data": {
      "text/plain": [
       "0         300051\n",
       "1          99355\n",
       "2         890251\n",
       "3         745817\n",
       "4         421793\n",
       "          ...   \n",
       "86863     310028\n",
       "86864     663567\n",
       "86865    1049160\n",
       "86866     442785\n",
       "86867     501372\n",
       "Name: building_id, Length: 86868, dtype: int64"
      ]
     },
     "execution_count": 86,
     "metadata": {},
     "output_type": "execute_result"
    }
   ],
   "source": [
    "test_data_cat.building_id"
   ]
  },
  {
   "cell_type": "code",
   "execution_count": null,
   "metadata": {},
   "outputs": [],
   "source": []
  }
 ],
 "metadata": {
  "kernelspec": {
   "display_name": "Python 3",
   "language": "python",
   "name": "python3"
  },
  "language_info": {
   "codemirror_mode": {
    "name": "ipython",
    "version": 3
   },
   "file_extension": ".py",
   "mimetype": "text/x-python",
   "name": "python",
   "nbconvert_exporter": "python",
   "pygments_lexer": "ipython3",
   "version": "3.6.8"
  }
 },
 "nbformat": 4,
 "nbformat_minor": 4
}
